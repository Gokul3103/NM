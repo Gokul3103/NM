{
  "nbformat": 4,
  "nbformat_minor": 0,
  "metadata": {
    "colab": {
      "provenance": [],
      "authorship_tag": "ABX9TyPOCVKNwG0ktQMajMl0p6QS",
      "include_colab_link": true
    },
    "kernelspec": {
      "name": "python3",
      "display_name": "Python 3"
    },
    "language_info": {
      "name": "python"
    }
  },
  "cells": [
    {
      "cell_type": "markdown",
      "metadata": {
        "id": "view-in-github",
        "colab_type": "text"
      },
      "source": [
        "<a href=\"https://colab.research.google.com/github/Gokul3103/Naan_Mudhalavan_Final_Project/blob/main/Digit_Recognizor_with_keras.ipynb\" target=\"_parent\"><img src=\"https://colab.research.google.com/assets/colab-badge.svg\" alt=\"Open In Colab\"/></a>"
      ]
    },
    {
      "cell_type": "code",
      "source": [
        "import tensorflow\n",
        "from tensorflow import keras\n",
        "from tensorflow.keras import Sequential\n",
        "from tensorflow.keras.layers import Dense, Flatten"
      ],
      "metadata": {
        "id": "IzSwpfc_0Z3q"
      },
      "execution_count": 3,
      "outputs": []
    },
    {
      "cell_type": "code",
      "source": [
        "(X_train,y_train),(X_test,y_test) = keras.datasets.mnist.load_data()"
      ],
      "metadata": {
        "colab": {
          "base_uri": "https://localhost:8080/"
        },
        "id": "dB0fz_oe0dAr",
        "outputId": "b033e95b-c65e-48aa-a3ff-acfde11c7ecb"
      },
      "execution_count": 4,
      "outputs": [
        {
          "output_type": "stream",
          "name": "stdout",
          "text": [
            "Downloading data from https://storage.googleapis.com/tensorflow/tf-keras-datasets/mnist.npz\n",
            "11490434/11490434 [==============================] - 0s 0us/step\n"
          ]
        }
      ]
    },
    {
      "cell_type": "code",
      "source": [
        "import matplotlib.pyplot as plt\n",
        "plt.imshow(X_train[2])"
      ],
      "metadata": {
        "colab": {
          "base_uri": "https://localhost:8080/",
          "height": 447
        },
        "id": "f-bK2d4b0gWb",
        "outputId": "968a8668-e2e7-43c5-bbec-a6d961aaf512"
      },
      "execution_count": 5,
      "outputs": [
        {
          "output_type": "execute_result",
          "data": {
            "text/plain": [
              "<matplotlib.image.AxesImage at 0x78d052d5efe0>"
            ]
          },
          "metadata": {},
          "execution_count": 5
        },
        {
          "output_type": "display_data",
          "data": {
            "text/plain": [
              "<Figure size 640x480 with 1 Axes>"
            ],
            "image/png": "[encoded data removed]"
          },
          "metadata": {}
        }
      ]
    },
    {
      "cell_type": "code",
      "source": [
        "X_train = X_train/255\n",
        "X_test = X_test/255"
      ],
      "metadata": {
        "id": "LWZ48Qo20i12"
      },
      "execution_count": 6,
      "outputs": []
    },
    {
      "cell_type": "code",
      "source": [
        "model = Sequential()\n",
        "model.add(Flatten(input_shape=(28,28)))\n",
        "model.add(Dense(128,activation='relu'))\n",
        "model.add(Dense(10,activation='softmax'))"
      ],
      "metadata": {
        "id": "NKGG4sk_0l1_"
      },
      "execution_count": 7,
      "outputs": []
    },
    {
      "cell_type": "code",
      "source": [
        "model.summary()"
      ],
      "metadata": {
        "colab": {
          "base_uri": "https://localhost:8080/"
        },
        "id": "lB4CAp1D0omT",
        "outputId": "c4705612-c652-4761-b381-0ec5da8bad61"
      },
      "execution_count": 8,
      "outputs": [
        {
          "output_type": "stream",
          "name": "stdout",
          "text": [
            "Model: \"sequential\"\n",
            "_________________________________________________________________\n",
            " Layer (type)                Output Shape              Param #   \n",
            "=================================================================\n",
            " flatten (Flatten)           (None, 784)               0         \n",
            "                                                                 \n",
            " dense (Dense)               (None, 128)               100480    \n",
            "                                                                 \n",
            " dense_1 (Dense)             (None, 10)                1290      \n",
            "                                                                 \n",
            "=================================================================\n",
            "Total params: 101770 (397.54 KB)\n",
            "Trainable params: 101770 (397.54 KB)\n",
            "Non-trainable params: 0 (0.00 Byte)\n",
            "_________________________________________________________________\n"
          ]
        }
      ]
    },
    {
      "cell_type": "code",
      "source": [
        "model.compile(loss='sparse_categorical_crossentropy',optimizer='Adam',metrics=['accuracy'])"
      ],
      "metadata": {
        "id": "7iaW00t20rUC"
      },
      "execution_count": 9,
      "outputs": []
    },
    {
      "cell_type": "code",
      "source": [
        "history = model.fit(X_train,y_train,epochs=30,validation_split=0.2)"
      ],
      "metadata": {
        "colab": {
          "base_uri": "https://localhost:8080/"
        },
        "id": "v-Le0jUH0uZE",
        "outputId": "08632e1a-be87-451a-ea94-c0da321ca53c"
      },
      "execution_count": 10,
      "outputs": [
        {
          "output_type": "stream",
          "name": "stdout",
          "text": [
            "Epoch 1/30\n",
            "1500/1500 [==============================] - 8s 5ms/step - loss: 0.2845 - accuracy: 0.9194 - val_loss: 0.1517 - val_accuracy: 0.9567\n",
            "Epoch 2/30\n",
            "1500/1500 [==============================] - 7s 5ms/step - loss: 0.1277 - accuracy: 0.9623 - val_loss: 0.1255 - val_accuracy: 0.9624\n",
            "Epoch 3/30\n",
            "1500/1500 [==============================] - 6s 4ms/step - loss: 0.0894 - accuracy: 0.9735 - val_loss: 0.1182 - val_accuracy: 0.9641\n",
            "Epoch 4/30\n",
            "1500/1500 [==============================] - 5s 4ms/step - loss: 0.0657 - accuracy: 0.9803 - val_loss: 0.0909 - val_accuracy: 0.9730\n",
            "Epoch 5/30\n",
            "1500/1500 [==============================] - 6s 4ms/step - loss: 0.0504 - accuracy: 0.9852 - val_loss: 0.1008 - val_accuracy: 0.9702\n",
            "Epoch 6/30\n",
            "1500/1500 [==============================] - 5s 4ms/step - loss: 0.0400 - accuracy: 0.9885 - val_loss: 0.0795 - val_accuracy: 0.9763\n",
            "Epoch 7/30\n",
            "1500/1500 [==============================] - 6s 4ms/step - loss: 0.0310 - accuracy: 0.9903 - val_loss: 0.0864 - val_accuracy: 0.9747\n",
            "Epoch 8/30\n",
            "1500/1500 [==============================] - 6s 4ms/step - loss: 0.0245 - accuracy: 0.9926 - val_loss: 0.0870 - val_accuracy: 0.9764\n",
            "Epoch 9/30\n",
            "1500/1500 [==============================] - 8s 5ms/step - loss: 0.0211 - accuracy: 0.9938 - val_loss: 0.0844 - val_accuracy: 0.9765\n",
            "Epoch 10/30\n",
            "1500/1500 [==============================] - 9s 6ms/step - loss: 0.0170 - accuracy: 0.9948 - val_loss: 0.0853 - val_accuracy: 0.9768\n",
            "Epoch 11/30\n",
            "1500/1500 [==============================] - 11s 7ms/step - loss: 0.0134 - accuracy: 0.9964 - val_loss: 0.1081 - val_accuracy: 0.9719\n",
            "Epoch 12/30\n",
            "1500/1500 [==============================] - 9s 6ms/step - loss: 0.0118 - accuracy: 0.9968 - val_loss: 0.0993 - val_accuracy: 0.9747\n",
            "Epoch 13/30\n",
            "1500/1500 [==============================] - 6s 4ms/step - loss: 0.0100 - accuracy: 0.9971 - val_loss: 0.0943 - val_accuracy: 0.9774\n",
            "Epoch 14/30\n",
            "1500/1500 [==============================] - 9s 6ms/step - loss: 0.0085 - accuracy: 0.9975 - val_loss: 0.0994 - val_accuracy: 0.9770\n",
            "Epoch 15/30\n",
            "1500/1500 [==============================] - 6s 4ms/step - loss: 0.0071 - accuracy: 0.9979 - val_loss: 0.1087 - val_accuracy: 0.9774\n",
            "Epoch 16/30\n",
            "1500/1500 [==============================] - 6s 4ms/step - loss: 0.0076 - accuracy: 0.9977 - val_loss: 0.1032 - val_accuracy: 0.9778\n",
            "Epoch 17/30\n",
            "1500/1500 [==============================] - 12s 8ms/step - loss: 0.0070 - accuracy: 0.9977 - val_loss: 0.1027 - val_accuracy: 0.9781\n",
            "Epoch 18/30\n",
            "1500/1500 [==============================] - 13s 8ms/step - loss: 0.0052 - accuracy: 0.9984 - val_loss: 0.1107 - val_accuracy: 0.9758\n",
            "Epoch 19/30\n",
            "1500/1500 [==============================] - 11s 7ms/step - loss: 0.0051 - accuracy: 0.9986 - val_loss: 0.1257 - val_accuracy: 0.9744\n",
            "Epoch 20/30\n",
            "1500/1500 [==============================] - 10s 6ms/step - loss: 0.0064 - accuracy: 0.9979 - val_loss: 0.1118 - val_accuracy: 0.9775\n",
            "Epoch 21/30\n",
            "1500/1500 [==============================] - 11s 7ms/step - loss: 0.0046 - accuracy: 0.9985 - val_loss: 0.1174 - val_accuracy: 0.9762\n",
            "Epoch 22/30\n",
            "1500/1500 [==============================] - 6s 4ms/step - loss: 0.0053 - accuracy: 0.9984 - val_loss: 0.1403 - val_accuracy: 0.9742\n",
            "Epoch 23/30\n",
            "1500/1500 [==============================] - 7s 5ms/step - loss: 0.0032 - accuracy: 0.9990 - val_loss: 0.1157 - val_accuracy: 0.9777\n",
            "Epoch 24/30\n",
            "1500/1500 [==============================] - 6s 4ms/step - loss: 0.0048 - accuracy: 0.9984 - val_loss: 0.1335 - val_accuracy: 0.9755\n",
            "Epoch 25/30\n",
            "1500/1500 [==============================] - 7s 5ms/step - loss: 0.0032 - accuracy: 0.9990 - val_loss: 0.1342 - val_accuracy: 0.9758\n",
            "Epoch 26/30\n",
            "1500/1500 [==============================] - 6s 4ms/step - loss: 0.0036 - accuracy: 0.9989 - val_loss: 0.1344 - val_accuracy: 0.9750\n",
            "Epoch 27/30\n",
            "1500/1500 [==============================] - 7s 5ms/step - loss: 0.0050 - accuracy: 0.9985 - val_loss: 0.1278 - val_accuracy: 0.9784\n",
            "Epoch 28/30\n",
            "1500/1500 [==============================] - 6s 4ms/step - loss: 0.0035 - accuracy: 0.9989 - val_loss: 0.1348 - val_accuracy: 0.9766\n",
            "Epoch 29/30\n",
            "1500/1500 [==============================] - 6s 4ms/step - loss: 0.0034 - accuracy: 0.9989 - val_loss: 0.1284 - val_accuracy: 0.9772\n",
            "Epoch 30/30\n",
            "1500/1500 [==============================] - 5s 4ms/step - loss: 0.0032 - accuracy: 0.9991 - val_loss: 0.1428 - val_accuracy: 0.9753\n"
          ]
        }
      ]
    },
    {
      "cell_type": "code",
      "source": [
        "y_pb = model.predict(X_test)"
      ],
      "metadata": {
        "colab": {
          "base_uri": "https://localhost:8080/"
        },
        "id": "8QVYcI-g0wkN",
        "outputId": "30e33e68-76b9-476b-e44c-44e6321b8ead"
      },
      "execution_count": 11,
      "outputs": [
        {
          "output_type": "stream",
          "name": "stdout",
          "text": [
            "313/313 [==============================] - 1s 2ms/step\n"
          ]
        }
      ]
    },
    {
      "cell_type": "code",
      "source": [
        "y_pd = y_pb.argmax(axis=1)"
      ],
      "metadata": {
        "id": "SGL0dEs508cs"
      },
      "execution_count": 12,
      "outputs": []
    },
    {
      "cell_type": "code",
      "source": [
        "from sklearn.metrics import accuracy_score\n",
        "accuracy_score(y_test,y_pd)"
      ],
      "metadata": {
        "colab": {
          "base_uri": "https://localhost:8080/"
        },
        "id": "OWOAyQb50-uX",
        "outputId": "6e7d28b8-4adb-413e-fa39-5c26bb323003"
      },
      "execution_count": 13,
      "outputs": [
        {
          "output_type": "execute_result",
          "data": {
            "text/plain": [
              "0.9767"
            ]
          },
          "metadata": {},
          "execution_count": 13
        }
      ]
    },
    {
      "cell_type": "code",
      "source": [
        "plt.plot(history.history['accuracy'])\n",
        "plt.plot(history.history['val_accuracy'])"
      ],
      "metadata": {
        "colab": {
          "base_uri": "https://localhost:8080/",
          "height": 447
        },
        "id": "zhBwkURW1BRk",
        "outputId": "776d4d3b-8c2f-42b8-f294-68aa15848d51"
      },
      "execution_count": 14,
      "outputs": [
        {
          "output_type": "execute_result",
          "data": {
            "text/plain": [
              "[<matplotlib.lines.Line2D at 0x78d0216b12a0>]"
            ]
          },
          "metadata": {},
          "execution_count": 14
        },
        {
          "output_type": "display_data",
          "data": {
            "text/plain": [
              "<Figure size 640x480 with 1 Axes>"
            ],
            "image/png": "[encoded data removed]"
          },
          "metadata": {}
        }
      ]
    },
    {
      "cell_type": "code",
      "source": [
        "plt.imshow(X_test[3])"
      ],
      "metadata": {
        "colab": {
          "base_uri": "https://localhost:8080/",
          "height": 447
        },
        "id": "Nu_oMSTp1Djf",
        "outputId": "bfab77c0-3255-44fe-f7fc-951e82a31a05"
      },
      "execution_count": 15,
      "outputs": [
        {
          "output_type": "execute_result",
          "data": {
            "text/plain": [
              "<matplotlib.image.AxesImage at 0x78d0217243a0>"
            ]
          },
          "metadata": {},
          "execution_count": 15
        },
        {
          "output_type": "display_data",
          "data": {
            "text/plain": [
              "<Figure size 640x480 with 1 Axes>"
            ],
            "image/png": "[encoded data removed]"
          },
          "metadata": {}
        }
      ]
    },
    {
      "cell_type": "code",
      "source": [
        "model.predict(X_test[3].reshape(1,28,28)).argmax(axis=1)"
      ],
      "metadata": {
        "colab": {
          "base_uri": "https://localhost:8080/"
        },
        "id": "Oow9XR5A1Hwz",
        "outputId": "11f4c743-90a4-4ea8-f40a-3c0d320c85cc"
      },
      "execution_count": 16,
      "outputs": [
        {
          "output_type": "stream",
          "name": "stdout",
          "text": [
            "1/1 [==============================] - 0s 22ms/step\n"
          ]
        },
        {
          "output_type": "execute_result",
          "data": {
            "text/plain": [
              "array([0])"
            ]
          },
          "metadata": {},
          "execution_count": 16
        }
      ]
    },
    {
      "cell_type": "code",
      "source": [
        "test=pd.read_csv('/kaggle/input/digit-recognizer/test.csv')\n",
        "test_values = test.values"
      ],
      "metadata": {
        "id": "WJtl6p1N1KWf"
      },
      "execution_count": 17,
      "outputs": []
    },
    {
      "cell_type": "code",
      "source": [
        "print(test_values.shape)\n",
        "print(X_test.shape)"
      ],
      "metadata": {
        "colab": {
          "base_uri": "https://localhost:8080/"
        },
        "id": "bZL8rKzb1OPb",
        "outputId": "8b95226f-c0a4-4100-cda6-51fe449923f9"
      },
      "execution_count": 18,
      "outputs": [
        {
          "output_type": "stream",
          "name": "stdout",
          "text": [
            "(28000, 784)\n",
            "(10000, 28, 28)\n"
          ]
        }
      ]
    },
    {
      "cell_type": "code",
      "source": [
        "test_values_reshaped = test_values.reshape(28000, 28, 28)\n",
        "test_values_reshaped.shape"
      ],
      "metadata": {
        "colab": {
          "base_uri": "https://localhost:8080/"
        },
        "id": "YbRuz6eG1RmM",
        "outputId": "a39cdbaa-6486-4bd8-ec9f-16900ab29bc1"
      },
      "execution_count": 19,
      "outputs": [
        {
          "output_type": "execute_result",
          "data": {
            "text/plain": [
              "(28000, 28, 28)"
            ]
          },
          "metadata": {},
          "execution_count": 19
        }
      ]
    },
    {
      "cell_type": "code",
      "source": [
        "test_out = model.predict(test_values_reshaped)"
      ],
      "metadata": {
        "colab": {
          "base_uri": "https://localhost:8080/"
        },
        "id": "R3rrXWxv1Typ",
        "outputId": "cd0ed36a-b6c4-497c-df25-aa1eb4f03a4b"
      },
      "execution_count": 20,
      "outputs": [
        {
          "output_type": "stream",
          "name": "stdout",
          "text": [
            "875/875 [==============================] - 2s 3ms/step\n"
          ]
        }
      ]
    },
    {
      "cell_type": "code",
      "source": [
        "y =test_out.argmax(axis=1)\n",
        "submission = pd.DataFrame(y, columns=['Label'])\n",
        "submission.index.name = 'ImageId'\n",
        "submission.index += 1\n",
        "submission.to_csv('/kaggle/working/submission.csv')\n",
        "print('Submission completed!')"
      ],
      "metadata": {
        "colab": {
          "base_uri": "https://localhost:8080/"
        },
        "id": "y39OrbTD1WL7",
        "outputId": "6f980965-e4d3-418e-cd1e-02a1a6d93eb0"
      },
      "execution_count": 21,
      "outputs": [
        {
          "output_type": "stream",
          "name": "stdout",
          "text": [
            "Submission completed!\n"
          ]
        }
      ]
    }
  ]
}